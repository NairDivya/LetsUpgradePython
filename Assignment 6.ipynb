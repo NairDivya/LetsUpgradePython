{
 "cells": [
  {
   "cell_type": "code",
   "execution_count": 1,
   "metadata": {},
   "outputs": [
    {
     "name": "stdout",
     "output_type": "stream",
     "text": [
      "--Welcome To The LetsUpgrade Bank---- \n",
      "Account holder : Sachin\n",
      "Account balance : 1000000\n"
     ]
    },
    {
     "name": "stdin",
     "output_type": "stream",
     "text": [
      "\n",
      "Enter the Amount to be Deposited :  5000\n"
     ]
    },
    {
     "name": "stdout",
     "output_type": "stream",
     "text": [
      "\n",
      "Amount Deposited is : 5000\n",
      "\n",
      "Net Available Balance : 1005000\n"
     ]
    },
    {
     "name": "stdin",
     "output_type": "stream",
     "text": [
      "\n",
      "Enter the amount to be Withdraw :  4000\n"
     ]
    },
    {
     "name": "stdout",
     "output_type": "stream",
     "text": [
      "\n",
      "Amount Withdrawn : 4000\n",
      "\n",
      "Net Available Balance : 1001000\n"
     ]
    }
   ],
   "source": [
    "For this challenge,create a bank account class that has two attributes\n",
    "*ownerName\n",
    "*Balance\n",
    "And two methods\n",
    "*deposit\n",
    "*withdraw\n",
    "As an added requirement,withdrawals may not exceed the available balance.\n",
    "Instantiate your class,make several deposits and withdrawals,and test to make sure the account\n",
    "cant be overdrawn."
   ]
  },
  {
   "cell_type": "code",
   "execution_count": 3,
   "metadata": {},
   "outputs": [
    {
     "name": "stdout",
     "output_type": "stream",
     "text": [
      "--Welcome To The LetsUpgrade Bank---- \n",
      "Account holder : Divya\n",
      "Account balance : 50000\n"
     ]
    },
    {
     "name": "stdin",
     "output_type": "stream",
     "text": [
      "\n",
      "Enter the Amount to be Deposited :  5400\n"
     ]
    },
    {
     "name": "stdout",
     "output_type": "stream",
     "text": [
      "\n",
      "Amount Deposited is : 5400\n",
      "\n",
      "Net Available Balance : 55400\n"
     ]
    },
    {
     "name": "stdin",
     "output_type": "stream",
     "text": [
      "\n",
      "Enter the amount to be Withdraw :  1500\n"
     ]
    },
    {
     "name": "stdout",
     "output_type": "stream",
     "text": [
      "\n",
      "Amount Withdrawn : 1500\n",
      "\n",
      "Net Available Balance : 53900\n"
     ]
    }
   ],
   "source": [
    "class BankAccount:\n",
    "  def __init__(self):\n",
    "    self.name = \"Divya\"\n",
    "    self.balance = 50000\n",
    "\n",
    "  def getDetails(self):\n",
    "      print(\"Account holder :\",self.name)\n",
    "      print(\"Account balance :\",self.balance) \n",
    "\n",
    "  def Deposit(self):\n",
    "    amount = int(input(\"\\nEnter the Amount to be Deposited : \"))\n",
    "    self.balance+= amount\n",
    "    print(\"\\nAmount Deposited is :\",amount)\n",
    "    print(\"\\nNet Available Balance :\",self.balance)\n",
    "  \n",
    "  def WithDraw(self):\n",
    "    amount = int(input(\"\\nEnter the amount to be Withdraw : \")) \n",
    "    if self.balance > amount:\n",
    "      self.balance -= amount\n",
    "    else:\n",
    "      print(\"\\nInsufficient Balance\")\n",
    "    print(\"\\nAmount Withdrawn :\",amount)\n",
    "    print(\"\\nNet Available Balance :\",self.balance)\n",
    "print(\"--Welcome To The LetsUpgrade Bank---- \")\n",
    "p1 = BankAccount()\n",
    "p1.getDetails();\n",
    "p1.Deposit()   \n",
    "p1.WithDraw()"
   ]
  },
  {
   "cell_type": "code",
   "execution_count": null,
   "metadata": {},
   "outputs": [],
   "source": [
    "For this challenge,create a cone class that has two attributes:\n",
    "*R=Radius\n",
    "*h=Height\n",
    "And two methods:\n",
    "*Volume = Π * r2 = (h/3)\n",
    "*Surface area : base : Π * r2 , side : Π * r * √(r2 + h2)\n",
    "Make only one class with functions,as in where required import Math."
   ]
  },
  {
   "cell_type": "code",
   "execution_count": 6,
   "metadata": {},
   "outputs": [
    {
     "name": "stdin",
     "output_type": "stream",
     "text": [
      "\n",
      "Enter the radius of cone :  50\n",
      "\n",
      "Enter the height of cone :  150\n"
     ]
    },
    {
     "name": "stdout",
     "output_type": "stream",
     "text": [
      "\n",
      "Volume of the cone is  392699.0816987241\n",
      "\n",
      "surface Area of the cone is  31415.926535897932\n"
     ]
    }
   ],
   "source": [
    "\n",
    "import math\n",
    "\n",
    "pi = math.pi\n",
    "\n",
    "class Cone:\n",
    "  def __init__(self,r,h):\n",
    "    self.r = r\n",
    "    self.h = h\n",
    "\n",
    "  def Volume(self):\n",
    "    result = (1/3)*pi*self.r*self.r*self.h\n",
    "    print(\"\\nVolume of the cone is \",result)\n",
    "  \n",
    "  def SurfaceArea(self):\n",
    "    result = pi * self.r * self.h + pi * self.r * self.r\n",
    "    print(\"\\nsurface Area of the cone is \",result)\n",
    "\n",
    "r = float(input(\"\\nEnter the radius of cone : \"))\n",
    "h = float(input(\"\\nEnter the height of cone : \"))\n",
    "\n",
    "c = Cone( r, h)\n",
    "c.Volume()\n",
    "c.SurfaceArea()"
   ]
  },
  {
   "cell_type": "code",
   "execution_count": null,
   "metadata": {},
   "outputs": [],
   "source": []
  }
 ],
 "metadata": {
  "kernelspec": {
   "display_name": "Python 3",
   "language": "python",
   "name": "python3"
  },
  "language_info": {
   "codemirror_mode": {
    "name": "ipython",
    "version": 3
   },
   "file_extension": ".py",
   "mimetype": "text/x-python",
   "name": "python",
   "nbconvert_exporter": "python",
   "pygments_lexer": "ipython3",
   "version": "3.7.6"
  }
 },
 "nbformat": 4,
 "nbformat_minor": 4
}
